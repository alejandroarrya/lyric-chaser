{
 "cells": [
  {
   "cell_type": "markdown",
   "metadata": {},
   "source": [
    "# Lyric Chaser"
   ]
  },
  {
   "cell_type": "markdown",
   "metadata": {},
   "source": [
    "A fun and simple game that quizzes you on music lyrics!"
   ]
  },
  {
   "cell_type": "code",
   "execution_count": 1,
   "metadata": {},
   "outputs": [],
   "source": [
    "import os\n",
    "import re\n",
    "\n",
    "doc = './a_la_vibora_de_la_mar.txt'\n",
    "source = []\n",
    "source.append(open(doc,'r').read().split('\\n'))\n",
    "\n",
    "cancion = [l for a in source for l in a]"
   ]
  },
  {
   "cell_type": "code",
   "execution_count": 2,
   "metadata": {},
   "outputs": [],
   "source": [
    "linea = [l.split() for l in cancion]"
   ]
  },
  {
   "cell_type": "code",
   "execution_count": 3,
   "metadata": {},
   "outputs": [],
   "source": [
    "incomplete = []\n",
    "for l in linea:\n",
    "    incomplete.append(' '.join(l[:-1]))"
   ]
  },
  {
   "cell_type": "code",
   "execution_count": 4,
   "metadata": {},
   "outputs": [],
   "source": [
    "last_words = []\n",
    "for l in linea:\n",
    "    last_words.append(l[-1])"
   ]
  },
  {
   "cell_type": "code",
   "execution_count": 5,
   "metadata": {},
   "outputs": [
    {
     "name": "stdout",
     "output_type": "stream",
     "text": [
      "Welcome! We are Luis and Alejandro, and this is Lyric-Chaser, a fun and simple game that quizzes you on music lyrics!\n",
      "\n",
      "Please guess the last word of the following lyrics to a_la_vibora_de_la_mar.txt\n",
      "\n"
     ]
    }
   ],
   "source": [
    "print('Welcome! We are Luis and Alejandro, and this is Lyric-Chaser, a fun and simple game that quizzes you on music lyrics!')\n",
    "print('\\nPlease guess the last word of the following lyrics to {}\\n'.format(os.path.basename(doc)))     \n",
    "      "
   ]
  },
  {
   "cell_type": "code",
   "execution_count": 12,
   "metadata": {},
   "outputs": [],
   "source": [
    "def guess_lyric(user_input):\n",
    "    lives = 3\n",
    "    score = 0\n",
    "    for w in range(len(last_words)):\n",
    "        if lives == 0:\n",
    "            break\n",
    "        user_input = input(f'{incomplete[w]} ')        \n",
    "        if user_input == last_words[w]:\n",
    "            score += 1\n",
    "        else:\n",
    "            while user_input != last_words[w]:\n",
    "                lives -= 1\n",
    "                if lives != 0:\n",
    "                    print(f'Try again! You have {lives} lives.')\n",
    "                    user_input = input(f'{incomplete[w]} ')\n",
    "                else:\n",
    "                    print(f'You lose! Your score is {score} point(s).')\n",
    "                    break\n",
    "    if lives != 0:\n",
    "        print(f'You win! Your score is {score} point(s).')    "
   ]
  },
  {
   "cell_type": "code",
   "execution_count": 13,
   "metadata": {},
   "outputs": [
    {
     "name": "stdout",
     "output_type": "stream",
     "text": [
      "A la víbora, víbora, de la mar, de la mar\n",
      "por aquí pueden pasar\n",
      "Los de adelante corren mucho y los de atrás se d\n",
      "Try again! You have 2 lives.\n",
      "Los de adelante corren mucho y los de atrás se d\n",
      "Try again! You have 1 lives.\n",
      "Los de adelante corren mucho y los de atrás se quedarán\n",
      "tras, tras, tras, tras\n",
      "Una mexicana que frutos vendía\n",
      "ciruela, chabacano, melón o sandía\n",
      "Una mexicana que frutos vendía\n",
      "Ciruela, chabacano, melón o sandía\n",
      "Verbena, verbena, jardín de Matatena\n",
      "Verbena, verbena, jardín de Matatena\n",
      "Campanita de oro, déjame pasar\n",
      "con todos mis hijos, menos el de atrás\n",
      "tras, tras, tras, tras\n",
      "Será melón, será sandia, será la vieja del otro día\n",
      "día, día, día, día\n",
      "You win. Your score is 14 point(s).\n"
     ]
    }
   ],
   "source": [
    "guess_lyric('word')"
   ]
  },
  {
   "cell_type": "code",
   "execution_count": null,
   "metadata": {},
   "outputs": [],
   "source": []
  },
  {
   "cell_type": "code",
   "execution_count": null,
   "metadata": {},
   "outputs": [],
   "source": []
  }
 ],
 "metadata": {
  "kernelspec": {
   "display_name": "Python 3",
   "language": "python",
   "name": "python3"
  },
  "language_info": {
   "codemirror_mode": {
    "name": "ipython",
    "version": 3
   },
   "file_extension": ".py",
   "mimetype": "text/x-python",
   "name": "python",
   "nbconvert_exporter": "python",
   "pygments_lexer": "ipython3",
   "version": "3.7.3"
  }
 },
 "nbformat": 4,
 "nbformat_minor": 2
}
